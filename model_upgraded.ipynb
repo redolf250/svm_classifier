{
 "cells": [
  {
   "cell_type": "code",
   "execution_count": 1,
   "id": "1c3afc97",
   "metadata": {},
   "outputs": [],
   "source": [
    "import tensorflow as tf\n",
    "from tensorflow.keras.layers import Dense, MaxPooling2D, Conv2D, Flatten\n",
    "from tensorflow.keras.optimizers import Adam\n",
    "from tensorflow.keras.models import Sequential\n",
    "from tensorflow.keras.preprocessing.image import ImageDataGenerator\n",
    "from tensorflow.keras.callbacks import ModelCheckpoint,EarlyStopping, ReduceLROnPlateau\n",
    "from keras.models import save_model, load_model\n",
    "import matplotlib.pyplot as plt"
   ]
  },
  {
   "cell_type": "code",
   "execution_count": 2,
   "id": "0430e822",
   "metadata": {},
   "outputs": [],
   "source": [
    "path = r'D:\\\\Data\\\\work\\\\data'"
   ]
  },
  {
   "cell_type": "code",
   "execution_count": 18,
   "id": "0f6eca13",
   "metadata": {},
   "outputs": [],
   "source": [
    "train_datagen = ImageDataGenerator(rescale=1./255, rotation_range=0.2,shear_range=0.2,zoom_range=0.2,width_shift_range=0.2,\n",
    "    height_shift_range=0.2, validation_split=0.3)"
   ]
  },
  {
   "cell_type": "code",
   "execution_count": 19,
   "id": "e5be71f6",
   "metadata": {},
   "outputs": [
    {
     "name": "stdout",
     "output_type": "stream",
     "text": [
      "Found 2800 images belonging to 2 classes.\n"
     ]
    }
   ],
   "source": [
    "train_data = train_datagen.flow_from_directory(path, target_size=(80,80),batch_size=50,class_mode='categorical',\n",
    "                                               subset='training',color_mode=\"grayscale\")"
   ]
  },
  {
   "cell_type": "code",
   "execution_count": 20,
   "id": "5b31403c",
   "metadata": {},
   "outputs": [
    {
     "name": "stdout",
     "output_type": "stream",
     "text": [
      "Found 1200 images belonging to 2 classes.\n"
     ]
    }
   ],
   "source": [
    "validation_data = train_datagen.flow_from_directory(path,target_size=(80,80),batch_size=10,class_mode='categorical',\n",
    "                                                    subset='validation',color_mode=\"grayscale\")"
   ]
  },
  {
   "cell_type": "code",
   "execution_count": 21,
   "id": "b57fc474",
   "metadata": {},
   "outputs": [],
   "source": [
    "model = Sequential([\n",
    "    Conv2D(filters=16, kernel_size=(3, 3), input_shape=(80, 80,1), activation='relu'),\n",
    "    MaxPooling2D(pool_size=(2, 2), strides=2),\n",
    "    Conv2D(filters=32, kernel_size=(3, 3), activation='relu'),\n",
    "    MaxPooling2D(pool_size=(2, 2), strides=2),\n",
    "    Conv2D(filters=64, kernel_size=(3, 3), activation='relu'),\n",
    "    MaxPooling2D(pool_size=(2, 2), strides=2),\n",
    "    Flatten(),\n",
    "    Dense(units=2, activation='softmax'),\n",
    "])"
   ]
  },
  {
   "cell_type": "code",
   "execution_count": 22,
   "id": "346b9bc5",
   "metadata": {},
   "outputs": [
    {
     "name": "stdout",
     "output_type": "stream",
     "text": [
      "Model: \"sequential_2\"\n",
      "_________________________________________________________________\n",
      "Layer (type)                 Output Shape              Param #   \n",
      "=================================================================\n",
      "conv2d_6 (Conv2D)            (None, 78, 78, 16)        160       \n",
      "_________________________________________________________________\n",
      "max_pooling2d_6 (MaxPooling2 (None, 39, 39, 16)        0         \n",
      "_________________________________________________________________\n",
      "conv2d_7 (Conv2D)            (None, 37, 37, 32)        4640      \n",
      "_________________________________________________________________\n",
      "max_pooling2d_7 (MaxPooling2 (None, 18, 18, 32)        0         \n",
      "_________________________________________________________________\n",
      "conv2d_8 (Conv2D)            (None, 16, 16, 64)        18496     \n",
      "_________________________________________________________________\n",
      "max_pooling2d_8 (MaxPooling2 (None, 8, 8, 64)          0         \n",
      "_________________________________________________________________\n",
      "flatten_2 (Flatten)          (None, 4096)              0         \n",
      "_________________________________________________________________\n",
      "dense_2 (Dense)              (None, 2)                 8194      \n",
      "=================================================================\n",
      "Total params: 31,490\n",
      "Trainable params: 31,490\n",
      "Non-trainable params: 0\n",
      "_________________________________________________________________\n"
     ]
    }
   ],
   "source": [
    "model.summary()"
   ]
  },
  {
   "cell_type": "code",
   "execution_count": 23,
   "id": "1f2e20e9",
   "metadata": {},
   "outputs": [],
   "source": [
    "model.compile(optimizer=Adam(learning_rate=0.001), loss='categorical_crossentropy', metrics=['accuracy'])"
   ]
  },
  {
   "cell_type": "code",
   "execution_count": 24,
   "id": "3c72ee42",
   "metadata": {},
   "outputs": [],
   "source": [
    "checkpoint = ModelCheckpoint(r'D:\\\\Data\\\\work\\\\data\\\\model.h5',monitor='val_loss',save_best_only=True,verbose=3)\n",
    "\n",
    "earlystop = EarlyStopping(monitor = 'val_loss', patience=7, verbose= 3, restore_best_weights=True)\n",
    "\n",
    "learning_rate = ReduceLROnPlateau(monitor= 'val_loss', patience=3, verbose= 3)\n",
    "\n",
    "callbacks=[checkpoint,earlystop,learning_rate]"
   ]
  },
  {
   "cell_type": "code",
   "execution_count": 25,
   "id": "db8d8392",
   "metadata": {},
   "outputs": [
    {
     "name": "stdout",
     "output_type": "stream",
     "text": [
      "Epoch 1/10\n",
      "56/56 [==============================] - 9s 162ms/step - loss: 0.4832 - accuracy: 0.7457 - val_loss: 0.7905 - val_accuracy: 0.5350\n",
      "\n",
      "Epoch 00001: val_loss improved from inf to 0.79053, saving model to D:\\\\Data\\\\work\\\\data\\model.h5\n",
      "Epoch 2/10\n",
      "56/56 [==============================] - 9s 152ms/step - loss: 0.2944 - accuracy: 0.8618 - val_loss: 0.5540 - val_accuracy: 0.6983\n",
      "\n",
      "Epoch 00002: val_loss improved from 0.79053 to 0.55396, saving model to D:\\\\Data\\\\work\\\\data\\model.h5\n",
      "Epoch 3/10\n",
      "56/56 [==============================] - 9s 152ms/step - loss: 0.2308 - accuracy: 0.8936 - val_loss: 0.6176 - val_accuracy: 0.7400\n",
      "\n",
      "Epoch 00003: val_loss did not improve from 0.55396\n",
      "Epoch 4/10\n",
      "56/56 [==============================] - 9s 152ms/step - loss: 0.1819 - accuracy: 0.9171 - val_loss: 0.7673 - val_accuracy: 0.8067\n",
      "\n",
      "Epoch 00004: val_loss did not improve from 0.55396\n",
      "Epoch 5/10\n",
      "56/56 [==============================] - 9s 152ms/step - loss: 0.1203 - accuracy: 0.9507 - val_loss: 0.7961 - val_accuracy: 0.8600\n",
      "\n",
      "Epoch 00005: val_loss did not improve from 0.55396\n",
      "\n",
      "Epoch 00005: ReduceLROnPlateau reducing learning rate to 0.00010000000474974513.\n",
      "Epoch 6/10\n",
      "56/56 [==============================] - 8s 151ms/step - loss: 0.0919 - accuracy: 0.9636 - val_loss: 0.8169 - val_accuracy: 0.8308\n",
      "\n",
      "Epoch 00006: val_loss did not improve from 0.55396\n",
      "Epoch 7/10\n",
      "56/56 [==============================] - 9s 155ms/step - loss: 0.0798 - accuracy: 0.9739 - val_loss: 0.7861 - val_accuracy: 0.8333\n",
      "\n",
      "Epoch 00007: val_loss did not improve from 0.55396\n",
      "Epoch 8/10\n",
      "56/56 [==============================] - 9s 154ms/step - loss: 0.0836 - accuracy: 0.9693 - val_loss: 0.8100 - val_accuracy: 0.8625\n",
      "\n",
      "Epoch 00008: val_loss did not improve from 0.55396\n",
      "\n",
      "Epoch 00008: ReduceLROnPlateau reducing learning rate to 1.0000000474974514e-05.\n",
      "Epoch 9/10\n",
      "56/56 [==============================] - 8s 150ms/step - loss: 0.0829 - accuracy: 0.9714 - val_loss: 0.8954 - val_accuracy: 0.8508\n",
      "\n",
      "Epoch 00009: val_loss did not improve from 0.55396\n",
      "Restoring model weights from the end of the best epoch.\n",
      "Epoch 00009: early stopping\n"
     ]
    },
    {
     "data": {
      "text/plain": [
       "<keras.callbacks.History at 0x26e2c3fe518>"
      ]
     },
     "execution_count": 25,
     "metadata": {},
     "output_type": "execute_result"
    }
   ],
   "source": [
    "model.fit(train_data,validation_data= validation_data, verbose=1, callbacks=callbacks,epochs=10)"
   ]
  },
  {
   "cell_type": "code",
   "execution_count": 26,
   "id": "2c51ef62",
   "metadata": {},
   "outputs": [
    {
     "data": {
      "text/plain": [
       "{'Closed_Eyes': 0, 'Open_Eyes': 1}"
      ]
     },
     "execution_count": 26,
     "metadata": {},
     "output_type": "execute_result"
    }
   ],
   "source": [
    "train_data.class_indices"
   ]
  },
  {
   "cell_type": "code",
   "execution_count": 27,
   "id": "301292a1",
   "metadata": {},
   "outputs": [
    {
     "name": "stdout",
     "output_type": "stream",
     "text": [
      "56/56 [==============================] - 5s 91ms/step - loss: 0.2618 - accuracy: 0.8489\n"
     ]
    }
   ],
   "source": [
    "accruracy, loss=model.evaluate(train_data)"
   ]
  },
  {
   "cell_type": "code",
   "execution_count": 34,
   "id": "bda022fe",
   "metadata": {},
   "outputs": [
    {
     "data": {
      "text/plain": [
       "dict_keys([])"
      ]
     },
     "execution_count": 34,
     "metadata": {},
     "output_type": "execute_result"
    }
   ],
   "source": [
    "model.history.history.keys()"
   ]
  },
  {
   "cell_type": "code",
   "execution_count": null,
   "id": "3afb975a",
   "metadata": {},
   "outputs": [],
   "source": []
  }
 ],
 "metadata": {
  "kernelspec": {
   "display_name": "Python 3",
   "language": "python",
   "name": "python3"
  },
  "language_info": {
   "codemirror_mode": {
    "name": "ipython",
    "version": 3
   },
   "file_extension": ".py",
   "mimetype": "text/x-python",
   "name": "python",
   "nbconvert_exporter": "python",
   "pygments_lexer": "ipython3",
   "version": "3.6.3"
  },
  "varInspector": {
   "cols": {
    "lenName": 16,
    "lenType": 16,
    "lenVar": 40
   },
   "kernels_config": {
    "python": {
     "delete_cmd_postfix": "",
     "delete_cmd_prefix": "del ",
     "library": "var_list.py",
     "varRefreshCmd": "print(var_dic_list())"
    },
    "r": {
     "delete_cmd_postfix": ") ",
     "delete_cmd_prefix": "rm(",
     "library": "var_list.r",
     "varRefreshCmd": "cat(var_dic_list()) "
    }
   },
   "types_to_exclude": [
    "module",
    "function",
    "builtin_function_or_method",
    "instance",
    "_Feature"
   ],
   "window_display": false
  }
 },
 "nbformat": 4,
 "nbformat_minor": 5
}
